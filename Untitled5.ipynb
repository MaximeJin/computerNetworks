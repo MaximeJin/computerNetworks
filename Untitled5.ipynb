{
  "nbformat": 4,
  "nbformat_minor": 0,
  "metadata": {
    "colab": {
      "provenance": []
    },
    "kernelspec": {
      "name": "python3",
      "display_name": "Python 3"
    },
    "language_info": {
      "name": "python"
    }
  },
  "cells": [
    {
      "cell_type": "code",
      "execution_count": 7,
      "metadata": {
        "colab": {
          "base_uri": "https://localhost:8080/"
        },
        "id": "ngpdq-I40fr9",
        "outputId": "3c911a3e-7b5f-4665-b734-c00c376c5094"
      },
      "outputs": [
        {
          "output_type": "stream",
          "name": "stdout",
          "text": [
            "Reading package lists... Done\n",
            "Building dependency tree... Done\n",
            "Reading state information... Done\n",
            "The following NEW packages will be installed:\n",
            "  iputils-ping\n",
            "0 upgraded, 1 newly installed, 0 to remove and 19 not upgraded.\n",
            "Need to get 42.9 kB of archives.\n",
            "After this operation, 116 kB of additional disk space will be used.\n",
            "Get:1 http://archive.ubuntu.com/ubuntu jammy/main amd64 iputils-ping amd64 3:20211215-1 [42.9 kB]\n",
            "Fetched 42.9 kB in 0s (289 kB/s)\n",
            "Selecting previously unselected package iputils-ping.\n",
            "(Reading database ... 120874 files and directories currently installed.)\n",
            "Preparing to unpack .../iputils-ping_3%3a20211215-1_amd64.deb ...\n",
            "Unpacking iputils-ping (3:20211215-1) ...\n",
            "Setting up iputils-ping (3:20211215-1) ...\n",
            "Processing triggers for man-db (2.10.2-1) ...\n"
          ]
        }
      ],
      "source": [
        "!apt-get install iputils-ping\n"
      ]
    },
    {
      "cell_type": "code",
      "source": [
        "#!/bin/bash\n",
        "# This script performs a basic ping\n",
        "\n",
        "# Performing a basic ping to google .com\n",
        "!ping -c 4 google.com"
      ],
      "metadata": {
        "colab": {
          "base_uri": "https://localhost:8080/"
        },
        "id": "B-YhUe_u17F0",
        "outputId": "725b363f-6aee-4cfc-f4c5-b3b80095c2e4"
      },
      "execution_count": 11,
      "outputs": [
        {
          "output_type": "stream",
          "name": "stdout",
          "text": [
            "PING google.com (172.217.193.113) 56(84) bytes of data.\n",
            "64 bytes from ud-in-f113.1e100.net (172.217.193.113): icmp_seq=1 ttl=117 time=0.887 ms\n",
            "64 bytes from ud-in-f113.1e100.net (172.217.193.113): icmp_seq=2 ttl=117 time=0.374 ms\n",
            "64 bytes from ud-in-f113.1e100.net (172.217.193.113): icmp_seq=3 ttl=117 time=0.371 ms\n",
            "64 bytes from ud-in-f113.1e100.net (172.217.193.113): icmp_seq=4 ttl=117 time=0.368 ms\n",
            "\n",
            "--- google.com ping statistics ---\n",
            "4 packets transmitted, 4 received, 0% packet loss, time 3004ms\n",
            "rtt min/avg/max/mdev = 0.368/0.500/0.887/0.223 ms\n"
          ]
        }
      ]
    },
    {
      "cell_type": "code",
      "source": [
        "#!/bin/bash\n",
        "# This script performs a ping with a custom timeout\n",
        "\n",
        "# Performing a ping to google .com with a timeout of 2 seconds\n",
        "!ping -c 4 -W 2 google.com"
      ],
      "metadata": {
        "colab": {
          "base_uri": "https://localhost:8080/"
        },
        "id": "KEik76fc2LPn",
        "outputId": "b347f608-94bb-4907-8f9b-2fa676c502ea"
      },
      "execution_count": 12,
      "outputs": [
        {
          "output_type": "stream",
          "name": "stdout",
          "text": [
            "PING google.com (172.217.193.139) 56(84) bytes of data.\n",
            "64 bytes from ud-in-f139.1e100.net (172.217.193.139): icmp_seq=1 ttl=117 time=0.812 ms\n",
            "64 bytes from ud-in-f139.1e100.net (172.217.193.139): icmp_seq=2 ttl=117 time=0.373 ms\n",
            "64 bytes from ud-in-f139.1e100.net (172.217.193.139): icmp_seq=3 ttl=117 time=0.402 ms\n",
            "64 bytes from ud-in-f139.1e100.net (172.217.193.139): icmp_seq=4 ttl=117 time=0.355 ms\n",
            "\n",
            "--- google.com ping statistics ---\n",
            "4 packets transmitted, 4 received, 0% packet loss, time 3005ms\n",
            "rtt min/avg/max/mdev = 0.355/0.485/0.812/0.189 ms\n"
          ]
        }
      ]
    },
    {
      "cell_type": "code",
      "source": [
        "#!/bin/bash\n",
        "# This script performs a ping with a specific packet size\n",
        "\n",
        "# Performing a ping to google .com with a packet size of 100 bytes\n",
        "\n",
        "!ping -c 4 -s 100 google.com"
      ],
      "metadata": {
        "colab": {
          "base_uri": "https://localhost:8080/"
        },
        "id": "Z2it9oF12mtG",
        "outputId": "c5cc654b-e6c3-43a6-8a6a-3b9b3961817d"
      },
      "execution_count": 13,
      "outputs": [
        {
          "output_type": "stream",
          "name": "stdout",
          "text": [
            "PING google.com (172.217.193.113) 100(128) bytes of data.\n",
            "76 bytes from ud-in-f113.1e100.net (172.217.193.113): icmp_seq=1 ttl=117 (truncated)\n",
            "76 bytes from ud-in-f113.1e100.net (172.217.193.113): icmp_seq=2 ttl=117 (truncated)\n",
            "76 bytes from ud-in-f113.1e100.net (172.217.193.113): icmp_seq=3 ttl=117 (truncated)\n",
            "76 bytes from ud-in-f113.1e100.net (172.217.193.113): icmp_seq=4 ttl=117 (truncated)\n",
            "\n",
            "--- google.com ping statistics ---\n",
            "4 packets transmitted, 4 received, 0% packet loss, time 3004ms\n",
            "rtt min/avg/max/mdev = 0.296/0.472/0.810/0.205 ms\n"
          ]
        }
      ]
    },
    {
      "cell_type": "code",
      "source": [
        "#!/bin/bash\n",
        "# This script performs a ping through a specific network interface\n",
        "\n",
        "# Performing a ping to google .com through the eth0 interface\n",
        "!ping -c 4 -I eth0 google.com"
      ],
      "metadata": {
        "colab": {
          "base_uri": "https://localhost:8080/"
        },
        "id": "V53nbIO72zCi",
        "outputId": "a6dab329-7ca1-49c6-c65f-5b7cdac707db"
      },
      "execution_count": 14,
      "outputs": [
        {
          "output_type": "stream",
          "name": "stdout",
          "text": [
            "PING google.com (172.217.193.139) from 172.28.0.12 eth0: 56(84) bytes of data.\n",
            "64 bytes from ud-in-f139.1e100.net (172.217.193.139): icmp_seq=1 ttl=117 time=0.815 ms\n",
            "64 bytes from ud-in-f139.1e100.net (172.217.193.139): icmp_seq=2 ttl=117 time=0.348 ms\n",
            "64 bytes from ud-in-f139.1e100.net (172.217.193.139): icmp_seq=3 ttl=117 time=0.346 ms\n",
            "64 bytes from ud-in-f139.1e100.net (172.217.193.139): icmp_seq=4 ttl=117 time=0.354 ms\n",
            "\n",
            "--- google.com ping statistics ---\n",
            "4 packets transmitted, 4 received, 0% packet loss, time 3004ms\n",
            "rtt min/avg/max/mdev = 0.346/0.465/0.815/0.201 ms\n"
          ]
        }
      ]
    },
    {
      "cell_type": "code",
      "source": [
        "#!/bin/bash\n",
        "# This script performs a continuous ping\n",
        "\n",
        "# Performing a continuous ping to google .com\n",
        "!ping google.com"
      ],
      "metadata": {
        "colab": {
          "base_uri": "https://localhost:8080/"
        },
        "id": "H_j1OZw828-i",
        "outputId": "6218bebe-a650-4f5d-f4e6-2212f4fd317b"
      },
      "execution_count": 16,
      "outputs": [
        {
          "output_type": "stream",
          "name": "stdout",
          "text": [
            "PING google.com (172.217.193.113) 56(84) bytes of data.\n",
            "64 bytes from ud-in-f113.1e100.net (172.217.193.113): icmp_seq=1 ttl=117 time=0.797 ms\n",
            "64 bytes from ud-in-f113.1e100.net (172.217.193.113): icmp_seq=2 ttl=117 time=0.342 ms\n",
            "64 bytes from ud-in-f113.1e100.net (172.217.193.113): icmp_seq=3 ttl=117 time=0.626 ms\n",
            "64 bytes from ud-in-f113.1e100.net (172.217.193.113): icmp_seq=4 ttl=117 time=0.323 ms\n",
            "64 bytes from ud-in-f113.1e100.net (172.217.193.113): icmp_seq=5 ttl=117 time=0.352 ms\n",
            "64 bytes from ud-in-f113.1e100.net (172.217.193.113): icmp_seq=6 ttl=117 time=0.350 ms\n",
            "64 bytes from ud-in-f113.1e100.net (172.217.193.113): icmp_seq=7 ttl=117 time=0.371 ms\n",
            "64 bytes from ud-in-f113.1e100.net (172.217.193.113): icmp_seq=8 ttl=117 time=0.326 ms\n",
            "64 bytes from ud-in-f113.1e100.net (172.217.193.113): icmp_seq=9 ttl=117 time=0.337 ms\n",
            "64 bytes from ud-in-f113.1e100.net (172.217.193.113): icmp_seq=10 ttl=117 time=0.345 ms\n",
            "64 bytes from ud-in-f113.1e100.net (172.217.193.113): icmp_seq=11 ttl=117 time=0.353 ms\n",
            "64 bytes from ud-in-f113.1e100.net (172.217.193.113): icmp_seq=12 ttl=117 time=0.325 ms\n",
            "64 bytes from ud-in-f113.1e100.net (172.217.193.113): icmp_seq=13 ttl=117 time=0.405 ms\n",
            "64 bytes from ud-in-f113.1e100.net (172.217.193.113): icmp_seq=14 ttl=117 time=0.276 ms\n",
            "64 bytes from ud-in-f113.1e100.net (172.217.193.113): icmp_seq=15 ttl=117 time=0.367 ms\n",
            "64 bytes from ud-in-f113.1e100.net (172.217.193.113): icmp_seq=16 ttl=117 time=0.296 ms\n",
            "64 bytes from ud-in-f113.1e100.net (172.217.193.113): icmp_seq=17 ttl=117 time=0.286 ms\n",
            "64 bytes from ud-in-f113.1e100.net (172.217.193.113): icmp_seq=18 ttl=117 time=0.358 ms\n",
            "64 bytes from ud-in-f113.1e100.net (172.217.193.113): icmp_seq=19 ttl=117 time=0.325 ms\n",
            "64 bytes from ud-in-f113.1e100.net (172.217.193.113): icmp_seq=20 ttl=117 time=0.338 ms\n",
            "64 bytes from ud-in-f113.1e100.net (172.217.193.113): icmp_seq=21 ttl=117 time=0.337 ms\n",
            "64 bytes from ud-in-f113.1e100.net (172.217.193.113): icmp_seq=22 ttl=117 time=0.328 ms\n",
            "64 bytes from ud-in-f113.1e100.net (172.217.193.113): icmp_seq=23 ttl=117 time=0.484 ms\n",
            "64 bytes from ud-in-f113.1e100.net (172.217.193.113): icmp_seq=24 ttl=117 time=0.343 ms\n",
            "64 bytes from ud-in-f113.1e100.net (172.217.193.113): icmp_seq=25 ttl=117 time=0.362 ms\n",
            "64 bytes from ud-in-f113.1e100.net (172.217.193.113): icmp_seq=26 ttl=117 time=0.341 ms\n",
            "64 bytes from ud-in-f113.1e100.net (172.217.193.113): icmp_seq=27 ttl=117 time=0.322 ms\n",
            "64 bytes from ud-in-f113.1e100.net (172.217.193.113): icmp_seq=28 ttl=117 time=0.353 ms\n",
            "64 bytes from ud-in-f113.1e100.net (172.217.193.113): icmp_seq=29 ttl=117 time=0.347 ms\n",
            "64 bytes from ud-in-f113.1e100.net (172.217.193.113): icmp_seq=30 ttl=117 time=0.285 ms\n",
            "64 bytes from ud-in-f113.1e100.net (172.217.193.113): icmp_seq=31 ttl=117 time=0.374 ms\n",
            "64 bytes from ud-in-f113.1e100.net (172.217.193.113): icmp_seq=32 ttl=117 time=0.409 ms\n",
            "64 bytes from ud-in-f113.1e100.net (172.217.193.113): icmp_seq=33 ttl=117 time=0.349 ms\n",
            "64 bytes from ud-in-f113.1e100.net (172.217.193.113): icmp_seq=34 ttl=117 time=0.321 ms\n",
            "64 bytes from ud-in-f113.1e100.net (172.217.193.113): icmp_seq=35 ttl=117 time=0.345 ms\n",
            "64 bytes from ud-in-f113.1e100.net (172.217.193.113): icmp_seq=36 ttl=117 time=0.347 ms\n",
            "64 bytes from ud-in-f113.1e100.net (172.217.193.113): icmp_seq=37 ttl=117 time=0.302 ms\n",
            "64 bytes from ud-in-f113.1e100.net (172.217.193.113): icmp_seq=38 ttl=117 time=0.319 ms\n",
            "64 bytes from ud-in-f113.1e100.net (172.217.193.113): icmp_seq=39 ttl=117 time=0.332 ms\n",
            "64 bytes from ud-in-f113.1e100.net (172.217.193.113): icmp_seq=40 ttl=117 time=0.335 ms\n",
            "\n",
            "--- google.com ping statistics ---\n",
            "40 packets transmitted, 40 received, 0% packet loss, time 39046ms\n",
            "rtt min/avg/max/mdev = 0.276/0.360/0.797/0.089 ms\n"
          ]
        }
      ]
    },
    {
      "cell_type": "code",
      "source": [
        "!sudo apt-get install traceroute"
      ],
      "metadata": {
        "colab": {
          "base_uri": "https://localhost:8080/"
        },
        "id": "4GyXkq3R34Cr",
        "outputId": "06f56d33-2e47-4ace-8095-58de40548aa2"
      },
      "execution_count": 19,
      "outputs": [
        {
          "output_type": "stream",
          "name": "stdout",
          "text": [
            "Reading package lists... Done\n",
            "Building dependency tree... Done\n",
            "Reading state information... Done\n",
            "The following NEW packages will be installed:\n",
            "  traceroute\n",
            "0 upgraded, 1 newly installed, 0 to remove and 19 not upgraded.\n",
            "Need to get 45.4 kB of archives.\n",
            "After this operation, 152 kB of additional disk space will be used.\n",
            "Get:1 http://archive.ubuntu.com/ubuntu jammy/universe amd64 traceroute amd64 1:2.1.0-2 [45.4 kB]\n",
            "Fetched 45.4 kB in 0s (110 kB/s)\n",
            "debconf: unable to initialize frontend: Dialog\n",
            "debconf: (No usable dialog-like program is installed, so the dialog based frontend cannot be used. at /usr/share/perl5/Debconf/FrontEnd/Dialog.pm line 78, <> line 1.)\n",
            "debconf: falling back to frontend: Readline\n",
            "debconf: unable to initialize frontend: Readline\n",
            "debconf: (This frontend requires a controlling tty.)\n",
            "debconf: falling back to frontend: Teletype\n",
            "dpkg-preconfigure: unable to re-open stdin: \n",
            "Selecting previously unselected package traceroute.\n",
            "(Reading database ... 120884 files and directories currently installed.)\n",
            "Preparing to unpack .../traceroute_1%3a2.1.0-2_amd64.deb ...\n",
            "Unpacking traceroute (1:2.1.0-2) ...\n",
            "Setting up traceroute (1:2.1.0-2) ...\n",
            "update-alternatives: using /usr/bin/traceroute.db to provide /usr/bin/traceroute (traceroute) in auto mode\n",
            "update-alternatives: using /usr/bin/traceroute6.db to provide /usr/bin/traceroute6 (traceroute6) in auto mode\n",
            "update-alternatives: using /usr/bin/lft.db to provide /usr/bin/lft (lft) in auto mode\n",
            "update-alternatives: using /usr/bin/traceproto.db to provide /usr/bin/traceproto (traceproto) in auto mode\n",
            "update-alternatives: using /usr/sbin/tcptraceroute.db to provide /usr/sbin/tcptraceroute (tcptraceroute) in auto mode\n",
            "Processing triggers for man-db (2.10.2-1) ...\n"
          ]
        }
      ]
    },
    {
      "cell_type": "code",
      "source": [
        "#!/bin/bash\n",
        "#This script performs a basic traceroute\n",
        "\n",
        "#Performing a basic traceroute to google .com\n",
        "!traceroute google.com"
      ],
      "metadata": {
        "colab": {
          "base_uri": "https://localhost:8080/"
        },
        "id": "WVYMCKgw38LC",
        "outputId": "9f8b1530-e5cb-4faf-bb4e-f7a78d89b7ed"
      },
      "execution_count": 21,
      "outputs": [
        {
          "output_type": "stream",
          "name": "stdout",
          "text": [
            "traceroute to google.com (172.217.193.101), 30 hops max, 60 byte packets\n",
            " 1  172.28.0.1 (172.28.0.1)  0.036 ms  0.014 ms  0.011 ms\n",
            " 2  * * *\n",
            " 3  172.253.76.132 (172.253.76.132)  0.894 ms 172.253.76.130 (172.253.76.130)  0.843 ms 172.253.76.154 (172.253.76.154)  3.397 ms\n",
            " 4  72.14.239.99 (72.14.239.99)  2.192 ms 172.253.74.157 (172.253.74.157)  0.859 ms 172.253.74.153 (172.253.74.153)  0.747 ms\n",
            " 5  * * *\n",
            " 6  * * *\n",
            " 7  * * *\n",
            " 8  * * *\n",
            " 9  * * *\n",
            "10  * * *\n",
            "11  * * *\n",
            "12  * * *\n",
            "13  * * *\n",
            "14  ud-in-f101.1e100.net (172.217.193.101)  0.437 ms  0.424 ms *\n"
          ]
        }
      ]
    },
    {
      "cell_type": "code",
      "source": [
        "#!/bin/bash\n",
        "# This script performs a traceroute with a maximum number of hops\n",
        "\n",
        "# Performing a traceroute to google.com with a maximum of 5 hops\n",
        "!traceroute -m 5 google.com\n"
      ],
      "metadata": {
        "colab": {
          "base_uri": "https://localhost:8080/"
        },
        "id": "toLE9eL54GBy",
        "outputId": "eff32c52-9176-4d53-c735-fb1a3b2797bf"
      },
      "execution_count": 23,
      "outputs": [
        {
          "output_type": "stream",
          "name": "stdout",
          "text": [
            "traceroute to google.com (173.194.212.113), 5 hops max, 60 byte packets\n",
            " 1  172.28.0.1 (172.28.0.1)  0.045 ms  0.014 ms  0.012 ms\n",
            " 2  * * *\n",
            " 3  172.253.76.134 (172.253.76.134)  2.149 ms * 172.253.75.130 (172.253.75.130)  2.052 ms\n",
            " 4  142.250.56.249 (142.250.56.249)  1.346 ms 142.250.56.231 (142.250.56.231)  1.097 ms 142.250.56.233 (142.250.56.233)  0.660 ms\n",
            " 5  * * *\n"
          ]
        }
      ]
    },
    {
      "cell_type": "code",
      "source": [
        "#!/bin/bash\n",
        "# This script performs a traceroute using ICMP\n",
        "\n",
        "# Performing a traceroute to google.com using ICMP\n",
        "!traceroute -I google.com\n"
      ],
      "metadata": {
        "colab": {
          "base_uri": "https://localhost:8080/"
        },
        "id": "GHfFqle44dqz",
        "outputId": "73f20660-2398-4a2e-c202-31bbce6e8f65"
      },
      "execution_count": 24,
      "outputs": [
        {
          "output_type": "stream",
          "name": "stdout",
          "text": [
            "traceroute to google.com (173.194.212.113), 30 hops max, 60 byte packets\n",
            " 1  172.28.0.1 (172.28.0.1)  0.037 ms  0.013 ms  0.011 ms\n",
            " 2  * * *\n",
            " 3  172.253.76.154 (172.253.76.154)  1.935 ms  1.928 ms  1.916 ms\n",
            " 4  142.250.56.229 (142.250.56.229)  1.512 ms  1.504 ms  1.495 ms\n",
            " 5  * * *\n",
            " 6  * * *\n",
            " 7  * * *\n",
            " 8  * * *\n",
            " 9  * * *\n",
            "10  * * *\n",
            "11  * * *\n",
            "12  * * *\n",
            "13  * * *\n",
            "14  * * *\n",
            "15  * * *\n",
            "16  vq-in-f113.1e100.net (173.194.212.113)  0.481 ms  0.475 ms  0.471 ms\n"
          ]
        }
      ]
    },
    {
      "cell_type": "code",
      "source": [
        "#!/bin/bash\n",
        "# This script performs a traceroute with a specific timeout\n",
        "\n",
        "# Performing a traceroute to google.com with a timeout of 2 seconds\n",
        "!traceroute --wait=2 google.com\n"
      ],
      "metadata": {
        "colab": {
          "base_uri": "https://localhost:8080/"
        },
        "id": "1_EoLmcd4wEa",
        "outputId": "cb69ed72-f910-479a-dead-dc4a60b8deea"
      },
      "execution_count": 25,
      "outputs": [
        {
          "output_type": "stream",
          "name": "stdout",
          "text": [
            "traceroute to google.com (172.217.193.138), 30 hops max, 60 byte packets\n",
            " 1  172.28.0.1 (172.28.0.1)  0.033 ms  0.012 ms  0.008 ms\n",
            " 2  * * *\n",
            " 3  172.253.75.136 (172.253.75.136)  1.858 ms 172.253.76.152 (172.253.76.152)  3.476 ms 172.253.76.162 (172.253.76.162)  1.806 ms\n",
            " 4  216.239.49.133 (216.239.49.133)  2.199 ms 172.253.74.99 (172.253.74.99)  1.008 ms 172.253.74.155 (172.253.74.155)  0.978 ms\n",
            " 5  * * *\n",
            " 6  * * *\n",
            " 7  * * *\n",
            " 8  * * *\n",
            " 9  * * *\n",
            "10  * * *\n",
            "11  * * *\n",
            "12  * * *\n",
            "13  * * *\n",
            "14  * ud-in-f138.1e100.net (172.217.193.138)  0.501 ms *\n"
          ]
        }
      ]
    },
    {
      "cell_type": "code",
      "source": [
        "#!/bin/bash\n",
        "# This script performs a traceroute to a specific port\n",
        "\n",
        "# Performing a traceroute to google.com on port 80\n",
        "!traceroute -p 80 google.com\n"
      ],
      "metadata": {
        "colab": {
          "base_uri": "https://localhost:8080/"
        },
        "id": "lkW44Vlo4xXs",
        "outputId": "1d834429-62f2-4c92-c0c5-937815f55319"
      },
      "execution_count": 26,
      "outputs": [
        {
          "output_type": "stream",
          "name": "stdout",
          "text": [
            "traceroute to google.com (172.217.193.138), 30 hops max, 60 byte packets\n",
            " 1  172.28.0.1 (172.28.0.1)  0.031 ms  0.011 ms  0.010 ms\n",
            " 2  * * *\n",
            " 3  * * *\n",
            " 4  * * *\n",
            " 5  * * *\n",
            " 6  * * *\n",
            " 7  * * *\n",
            " 8  * * *\n",
            " 9  * * *\n",
            "10  * * *\n",
            "11  * * *\n",
            "12  * * *\n",
            "13  * * *\n",
            "14  * * *\n",
            "15  * * *\n",
            "16  * * *\n",
            "17  * * *\n",
            "18  * * *\n",
            "19  * * *\n",
            "20  * * *\n",
            "21  * * *\n",
            "22  * * *\n",
            "23  * * *\n",
            "24  * * *\n",
            "25  * * *\n",
            "26  * * *\n",
            "27  * * *\n",
            "28  * * *\n",
            "29  * * *\n",
            "30  * * *\n"
          ]
        }
      ]
    },
    {
      "cell_type": "code",
      "source": [
        "#!/bin/bash\n",
        "# This script displays all listening ports\n",
        "\n",
        "# Displaying all listening ports\n",
        "!ss -l\n",
        "\n"
      ],
      "metadata": {
        "colab": {
          "base_uri": "https://localhost:8080/"
        },
        "id": "yRcu7UWM5DBJ",
        "outputId": "152aced5-7373-4118-8be9-e77aaa668c13"
      },
      "execution_count": 32,
      "outputs": [
        {
          "output_type": "stream",
          "name": "stdout",
          "text": [
            "Netid State  Recv-Q Send-Q                                                                        Local Address:Port    Peer Address:PortProcess\n",
            "nl    UNCONN 0      0                                                                                      rtnl:kernel              *           \n",
            "nl    UNCONN 0      0                                                                                      rtnl:804                 *           \n",
            "nl    UNCONN 4352   0                                                                                   tcpdiag:ss/6329             *           \n",
            "nl    UNCONN 768    0                                                                                   tcpdiag:kernel              *           \n",
            "nl    UNCONN 0      0                                                                                      xfrm:kernel              *           \n",
            "nl    UNCONN 0      0                                                                                     audit:kernel              *           \n",
            "nl    UNCONN 0      0                                                                                 fiblookup:kernel              *           \n",
            "nl    UNCONN 0      0                                                                                       nft:kernel              *           \n",
            "nl    UNCONN 0      0                                                                                    uevent:kernel              *           \n",
            "nl    UNCONN 0      0                                                                                      genl:kernel              *           \n",
            "u_str LISTEN 0      4096                                                                /tmp/debugger_4o5tluayd 17960              * 0          \n",
            "u_str LISTEN 0      100    /root/.local/share/jupyter/runtime/kernel-afa6499b-6d17-4ff3-a4f4-fe47f85a2535-ipc-1 35239              * 0          \n",
            "u_str LISTEN 0      100    /root/.local/share/jupyter/runtime/kernel-afa6499b-6d17-4ff3-a4f4-fe47f85a2535-ipc-3 35240              * 0          \n",
            "u_str LISTEN 0      100    /root/.local/share/jupyter/runtime/kernel-afa6499b-6d17-4ff3-a4f4-fe47f85a2535-ipc-4 35241              * 0          \n",
            "u_str LISTEN 0      100    /root/.local/share/jupyter/runtime/kernel-afa6499b-6d17-4ff3-a4f4-fe47f85a2535-ipc-2 35242              * 0          \n",
            "u_str LISTEN 0      100    /root/.local/share/jupyter/runtime/kernel-afa6499b-6d17-4ff3-a4f4-fe47f85a2535-ipc-5 35247              * 0          \n",
            "udp   UNCONN 0      0                                                                                127.0.0.11:55622        0.0.0.0:*          \n",
            "tcp   LISTEN 0      4096                                                                             127.0.0.11:33921        0.0.0.0:*          \n",
            "tcp   LISTEN 0      128                                                                             172.28.0.12:9000         0.0.0.0:*          \n",
            "tcp   LISTEN 0      100                                                                               127.0.0.1:43437        0.0.0.0:*          \n",
            "tcp   LISTEN 0      4096                                                                            172.28.0.12:6000         0.0.0.0:*          \n",
            "tcp   LISTEN 0      4096                                                                              127.0.0.1:52343        0.0.0.0:*          \n",
            "tcp   LISTEN 0      128                                                                               127.0.0.1:3453         0.0.0.0:*          \n",
            "tcp   LISTEN 0      4096                                                                              127.0.0.1:40031        0.0.0.0:*          \n",
            "tcp   LISTEN 0      511                                                                                       *:8080               *:*          \n"
          ]
        }
      ]
    },
    {
      "cell_type": "code",
      "source": [
        "#!/bin/bash\n",
        "# This script displays all TCP ports\n",
        "\n",
        "# Displaying all TCP ports\n",
        "!ss -lt\n"
      ],
      "metadata": {
        "colab": {
          "base_uri": "https://localhost:8080/"
        },
        "id": "ms5DXOBS7itn",
        "outputId": "4623e6c3-e47a-41c6-eff7-78a318a86ef2"
      },
      "execution_count": 33,
      "outputs": [
        {
          "output_type": "stream",
          "name": "stdout",
          "text": [
            "State  Recv-Q Send-Q Local Address:Port  Peer Address:PortProcess\n",
            "LISTEN 0      4096      127.0.0.11:33921      0.0.0.0:*          \n",
            "LISTEN 0      128      172.28.0.12:9000       0.0.0.0:*          \n",
            "LISTEN 0      100        127.0.0.1:43437      0.0.0.0:*          \n",
            "LISTEN 0      4096     172.28.0.12:6000       0.0.0.0:*          \n",
            "LISTEN 0      4096       127.0.0.1:52343      0.0.0.0:*          \n",
            "LISTEN 0      128        127.0.0.1:3453       0.0.0.0:*          \n",
            "LISTEN 0      4096       127.0.0.1:40031      0.0.0.0:*          \n",
            "LISTEN 0      511                *:8080             *:*          \n"
          ]
        }
      ]
    },
    {
      "cell_type": "code",
      "source": [
        "#!/bin/bash\n",
        "# This script displays numeric addresses using ss\n",
        "\n",
        "# Displaying numeric addresses\n",
        "!ss -n\n"
      ],
      "metadata": {
        "colab": {
          "base_uri": "https://localhost:8080/"
        },
        "id": "1Rd6qg8S9z62",
        "outputId": "fad6f180-b3a6-4fdb-c204-1cf2b893339a"
      },
      "execution_count": 34,
      "outputs": [
        {
          "output_type": "stream",
          "name": "stdout",
          "text": [
            "Netid State Recv-Q Send-Q                                                                        Local Address:Port         Peer Address:Port Process\n",
            "u_str ESTAB 0      0                                                                                         * 18987                   * 18986       \n",
            "u_str ESTAB 0      0      /root/.local/share/jupyter/runtime/kernel-afa6499b-6d17-4ff3-a4f4-fe47f85a2535-ipc-4 36366                   * 35303       \n",
            "u_str ESTAB 0      0                                                                                         * 35243                   * 35244       \n",
            "u_str ESTAB 0      0      /root/.local/share/jupyter/runtime/kernel-afa6499b-6d17-4ff3-a4f4-fe47f85a2535-ipc-3 36367                   * 35304       \n",
            "u_str ESTAB 0      0                                                                                         * 36548                   * 36549       \n",
            "u_str ESTAB 0      0                                                                                         * 18021                   * 18022       \n",
            "u_str ESTAB 0      0                                                                                         * 35302                   * 36365       \n",
            "u_str ESTAB 0      0                                                                                         * 36539                   * 36540       \n",
            "u_str ESTAB 0      0                                                                                         * 18985                   * 18984       \n",
            "u_str ESTAB 0      0                                                                                         * 18994                   * 18995       \n",
            "u_str ESTAB 0      0                                                                                         * 35244                   * 35243       \n",
            "u_str ESTAB 0      0                                                                                         * 36291                   * 35259       \n",
            "u_str ESTAB 0      0                                                                                         * 35303                   * 36366       \n",
            "u_str ESTAB 0      0                                                                                         * 18993                   * 18992       \n",
            "u_str ESTAB 0      0                                                                                         * 19051                   * 19052       \n",
            "u_str ESTAB 0      0                                                                                         * 18990                   * 18991       \n",
            "u_str ESTAB 0      0                                                                                         * 35249                   * 35248       \n",
            "u_str ESTAB 0      0                                                                                         * 36545                   * 36544       \n",
            "u_str ESTAB 0      0                                                                                         * 18991                   * 18990       \n",
            "u_str ESTAB 0      0                                                                                         * 36547                   * 36546       \n",
            "u_str ESTAB 0      0      /root/.local/share/jupyter/runtime/kernel-afa6499b-6d17-4ff3-a4f4-fe47f85a2535-ipc-1 36365                   * 35302       \n",
            "u_str ESTAB 0      0                                                                                         * 35304                   * 36367       \n",
            "u_str ESTAB 0      0                                                                                         * 18992                   * 18993       \n",
            "u_str ESTAB 0      0                                                                                         * 18982                   * 18983       \n",
            "u_str ESTAB 0      0                                                                                         * 36549                   * 36548       \n",
            "u_str ESTAB 0      0                                                                                         * 18983                   * 18982       \n",
            "u_str ESTAB 0      0                                                                                         * 18022                   * 18021       \n",
            "u_str ESTAB 0      0                                                                                         * 18984                   * 18985       \n",
            "u_str ESTAB 0      0                                                                                         * 18995                   * 18994       \n",
            "u_str ESTAB 0      0                                                                                         * 36546                   * 36547       \n",
            "u_str ESTAB 0      0                                                                                         * 35301                   * 36364       \n",
            "u_str ESTAB 0      0      /root/.local/share/jupyter/runtime/kernel-afa6499b-6d17-4ff3-a4f4-fe47f85a2535-ipc-4 35259                   * 36291       \n",
            "u_str ESTAB 0      0                                                                   /tmp/debugger_4o5tluayd 36540                   * 36539       \n",
            "u_str ESTAB 0      0                                                                                         * 19052                   * 19051       \n",
            "u_str ESTAB 0      0      /root/.local/share/jupyter/runtime/kernel-afa6499b-6d17-4ff3-a4f4-fe47f85a2535-ipc-2 35263                   * 36295       \n",
            "u_str ESTAB 0      0                                                                                         * 35248                   * 35249       \n",
            "u_str ESTAB 0      0                                                                                         * 36544                   * 36545       \n",
            "u_str ESTAB 0      0      /root/.local/share/jupyter/runtime/kernel-afa6499b-6d17-4ff3-a4f4-fe47f85a2535-ipc-2 36364                   * 35301       \n",
            "u_str ESTAB 0      0                                                                                         * 18986                   * 18987       \n",
            "u_str ESTAB 0      0                                                                                         * 36295                   * 35263       \n",
            "tcp   ESTAB 0      0                                                                               172.28.0.12:35122         172.28.0.12:9000        \n",
            "tcp   ESTAB 0      0                                                                               172.28.0.12:6000          172.28.0.12:56664       \n",
            "tcp   ESTAB 0      0                                                                                 127.0.0.1:40031           127.0.0.1:47662       \n",
            "tcp   ESTAB 0      0                                                                               172.28.0.12:38352         172.28.0.12:9000        \n",
            "tcp   ESTAB 0      0                                                                                 127.0.0.1:47662           127.0.0.1:40031       \n",
            "tcp   ESTAB 0      0                                                                               172.28.0.12:56664         172.28.0.12:6000        \n",
            "tcp   ESTAB 0      0                                                                                 127.0.0.1:52343           127.0.0.1:41842       \n",
            "tcp   ESTAB 0      0                                                                               172.28.0.12:9000          172.28.0.12:38352       \n",
            "tcp   ESTAB 0      0                                                                               172.28.0.12:9000          172.28.0.12:35122       \n",
            "tcp   ESTAB 0      0                                                                                 127.0.0.1:41842           127.0.0.1:52343       \n",
            "tcp   ESTAB 0      0                                                                               172.28.0.12:6000           172.28.0.1:56994       \n",
            "tcp   ESTAB 0      0                                                                      [::ffff:172.28.0.12]:8080  [::ffff:172.28.0.1]:51900       \n",
            "tcp   ESTAB 0      0                                                                      [::ffff:172.28.0.12]:8080  [::ffff:172.28.0.1]:36930       \n"
          ]
        }
      ]
    },
    {
      "cell_type": "code",
      "source": [
        "#!/bin/bash\n",
        "# This script displays the program name along with the network statistics\n",
        "\n",
        "# Displaying program name along with network statistics\n",
        "!ss -p\n"
      ],
      "metadata": {
        "colab": {
          "base_uri": "https://localhost:8080/"
        },
        "id": "_RkL3kco993w",
        "outputId": "c5a4d41a-cb7f-4290-ee33-9e6fc1107c6b"
      },
      "execution_count": 35,
      "outputs": [
        {
          "output_type": "stream",
          "name": "stdout",
          "text": [
            "Netid State Recv-Q Send-Q                                                                        Local Address:Port         Peer Address:Port Process                                                                                   \n",
            "u_str ESTAB 0      1536                                                                                      * 18987                   * 18986 users:((\"python3\",pid=902,fd=2),(\"python3\",pid=871,fd=2),(\"jupyter-noteboo\",pid=74,fd=2))\n",
            "u_str ESTAB 0      0      /root/.local/share/jupyter/runtime/kernel-afa6499b-6d17-4ff3-a4f4-fe47f85a2535-ipc-4 36366                   * 35303 users:((\"python3\",pid=871,fd=38))                                                        \n",
            "u_str ESTAB 0      0                                                                                         * 35243                   * 35244 users:((\"python3\",pid=871,fd=18))                                                        \n",
            "u_str ESTAB 0      0      /root/.local/share/jupyter/runtime/kernel-afa6499b-6d17-4ff3-a4f4-fe47f85a2535-ipc-3 36367                   * 35304 users:((\"python3\",pid=871,fd=39))                                                        \n",
            "u_str ESTAB 0      0                                                                                         * 36548                   * 36549 users:((\"node\",pid=6,fd=34))                                                             \n",
            "u_str ESTAB 0      0                                                                                         * 18021                   * 18022 users:((\"colab-fileshim.\",pid=57,fd=5))                                                  \n",
            "u_str ESTAB 0      0                                                                                         * 35302                   * 36365 users:((\"jupyter-noteboo\",pid=74,fd=22))                                                 \n",
            "u_str ESTAB 0      0                                                                                         * 36539                   * 36540 users:((\"node\",pid=6,fd=29))                                                             \n",
            "u_str ESTAB 0      0                                                                                         * 18985                   * 18984 users:((\"python3\",pid=902,fd=1),(\"python3\",pid=871,fd=1),(\"jupyter-noteboo\",pid=74,fd=1))\n",
            "u_str ESTAB 0      0                                                                                         * 18994                   * 18995 users:((\"node\",pid=6,fd=25))                                                             \n",
            "u_str ESTAB 0      0                                                                                         * 35244                   * 35243 users:((\"python3\",pid=871,fd=19))                                                        \n",
            "u_str ESTAB 0      0                                                                                         * 36291                   * 35259 users:((\"jupyter-noteboo\",pid=74,fd=16))                                                 \n",
            "u_str ESTAB 0      0                                                                                         * 35303                   * 36366 users:((\"jupyter-noteboo\",pid=74,fd=24))                                                 \n",
            "u_str ESTAB 0      0                                                                                         * 18993                   * 18992 users:((\"dap_multiplexer\",pid=75,fd=1))                                                  \n",
            "u_str ESTAB 0      0                                                                                         * 19051                   * 19052 users:((\"jupyter-noteboo\",pid=74,fd=4))                                                  \n",
            "u_str ESTAB 0      0                                                                                         * 18990                   * 18991 users:((\"node\",pid=6,fd=19))                                                             \n",
            "u_str ESTAB 0      0                                                                                         * 35249                   * 35248 users:((\"python3\",pid=871,fd=32))                                                        \n",
            "u_str ESTAB 0      0                                                                                         * 36545                   * 36544 users:((\"language_servic\",pid=931,fd=0))                                                 \n",
            "u_str ESTAB 0      0                                                                                         * 18991                   * 18990 users:((\"dap_multiplexer\",pid=75,fd=0))                                                  \n",
            "u_str ESTAB 0      0                                                                                         * 36547                   * 36546 users:((\"language_servic\",pid=931,fd=1))                                                 \n",
            "u_str ESTAB 0      0      /root/.local/share/jupyter/runtime/kernel-afa6499b-6d17-4ff3-a4f4-fe47f85a2535-ipc-1 36365                   * 35302 users:((\"python3\",pid=871,fd=37))                                                        \n",
            "u_str ESTAB 0      0                                                                                         * 35304                   * 36367 users:((\"jupyter-noteboo\",pid=74,fd=26))                                                 \n",
            "u_str ESTAB 0      0                                                                                         * 18992                   * 18993 users:((\"node\",pid=6,fd=23))                                                             \n",
            "u_str ESTAB 0      0                                                                                         * 18982                   * 18983 users:((\"node\",pid=6,fd=18))                                                             \n",
            "u_str ESTAB 0      0                                                                                         * 36549                   * 36548 users:((\"node\",pid=939,fd=2),(\"language_servic\",pid=931,fd=2))                           \n",
            "u_str ESTAB 0      0                                                                                         * 18983                   * 18982 users:((\"jupyter-noteboo\",pid=74,fd=0))                                                  \n",
            "u_str ESTAB 0      0                                                                                         * 18022                   * 18021 users:((\"colab-fileshim.\",pid=57,fd=6))                                                  \n",
            "u_str ESTAB 0      0                                                                                         * 18984                   * 18985 users:((\"node\",pid=6,fd=20))                                                             \n",
            "u_str ESTAB 0      0                                                                                         * 18995                   * 18994 users:((\"dap_multiplexer\",pid=75,fd=2))                                                  \n",
            "u_str ESTAB 0      0                                                                                         * 36546                   * 36547 users:((\"node\",pid=6,fd=32))                                                             \n",
            "u_str ESTAB 0      0                                                                                         * 35301                   * 36364 users:((\"jupyter-noteboo\",pid=74,fd=20))                                                 \n",
            "u_str ESTAB 0      0      /root/.local/share/jupyter/runtime/kernel-afa6499b-6d17-4ff3-a4f4-fe47f85a2535-ipc-4 35259                   * 36291 users:((\"python3\",pid=871,fd=33))                                                        \n",
            "u_str ESTAB 0      0                                                                   /tmp/debugger_4o5tluayd 36540                   * 36539 users:((\"dap_multiplexer\",pid=75,fd=8))                                                  \n",
            "u_str ESTAB 0      0                                                                                         * 19052                   * 19051 users:((\"jupyter-noteboo\",pid=74,fd=5))                                                  \n",
            "u_str ESTAB 0      0      /root/.local/share/jupyter/runtime/kernel-afa6499b-6d17-4ff3-a4f4-fe47f85a2535-ipc-2 35263                   * 36295 users:((\"python3\",pid=871,fd=34))                                                        \n",
            "u_str ESTAB 0      0                                                                                         * 35248                   * 35249 users:((\"python3\",pid=871,fd=31))                                                        \n",
            "u_str ESTAB 0      0                                                                                         * 36544                   * 36545 users:((\"node\",pid=6,fd=30))                                                             \n",
            "u_str ESTAB 0      0      /root/.local/share/jupyter/runtime/kernel-afa6499b-6d17-4ff3-a4f4-fe47f85a2535-ipc-2 36364                   * 35301 users:((\"python3\",pid=871,fd=36))                                                        \n",
            "u_str ESTAB 142    0                                                                                         * 18986                   * 18987 users:((\"node\",pid=6,fd=22))                                                             \n",
            "u_str ESTAB 0      0                                                                                         * 36295                   * 35263 users:((\"jupyter-noteboo\",pid=74,fd=17))                                                 \n",
            "tcp   ESTAB 0      0                                                                               172.28.0.12:35122         172.28.0.12:9000  users:((\"kernel_manager_\",pid=19,fd=8))                                                  \n",
            "tcp   ESTAB 0      0                                                                               172.28.0.12:6000          172.28.0.12:56664 users:((\"kernel_manager_\",pid=19,fd=7))                                                  \n",
            "tcp   ESTAB 0      0                                                                                 127.0.0.1:40031           127.0.0.1:47662 users:((\"python3\",pid=902,fd=5))                                                         \n",
            "tcp   ESTAB 0      0                                                                               172.28.0.12:38352         172.28.0.12:9000  users:((\"kernel_manager_\",pid=19,fd=9))                                                  \n",
            "tcp   ESTAB 0      0                                                                                 127.0.0.1:47662           127.0.0.1:40031 users:((\"dap_multiplexer\",pid=75,fd=9))                                                  \n",
            "tcp   ESTAB 0      0                                                                               172.28.0.12:56664         172.28.0.12:6000  users:((\"node\",pid=6,fd=27))                                                             \n",
            "tcp   ESTAB 0      0                                                                                 127.0.0.1:52343           127.0.0.1:41842 users:((\"python3\",pid=902,fd=6))                                                         \n",
            "tcp   ESTAB 0      0                                                                               172.28.0.12:9000          172.28.0.12:38352 users:((\"jupyter-noteboo\",pid=74,fd=18))                                                 \n",
            "tcp   ESTAB 0      0                                                                               172.28.0.12:9000          172.28.0.12:35122 users:((\"jupyter-noteboo\",pid=74,fd=8))                                                  \n",
            "tcp   ESTAB 0      0                                                                                 127.0.0.1:41842           127.0.0.1:52343 users:((\"python3\",pid=871,fd=40))                                                        \n",
            "tcp   ESTAB 0      0                                                                               172.28.0.12:6000           172.28.0.1:56994 users:((\"kernel_manager_\",pid=19,fd=10))                                                 \n",
            "tcp   ESTAB 0      0                                                                      [::ffff:172.28.0.12]:8080  [::ffff:172.28.0.1]:54354 users:((\"node\",pid=6,fd=28))                                                             \n",
            "tcp   ESTAB 0      0                                                                      [::ffff:172.28.0.12]:8080  [::ffff:172.28.0.1]:53584 users:((\"node\",pid=6,fd=26))                                                             \n"
          ]
        }
      ]
    },
    {
      "cell_type": "code",
      "source": [
        "#!/bin/bash\n",
        "# This script displays statistics by protocol using ss\n",
        "\n",
        "# Displaying statistics by protocol\n",
        "!ss -s\n"
      ],
      "metadata": {
        "colab": {
          "base_uri": "https://localhost:8080/"
        },
        "id": "Tw8QZzyR_GWU",
        "outputId": "78a1ae36-0a61-4f3d-da9e-1c2c6ce02260"
      },
      "execution_count": 36,
      "outputs": [
        {
          "output_type": "stream",
          "name": "stdout",
          "text": [
            "Total: 69\n",
            "TCP:   65 (estab 13, closed 44, orphaned 0, timewait 10)\n",
            "\n",
            "Transport Total     IP        IPv6\n",
            "RAW\t  0         0         0        \n",
            "UDP\t  1         1         0        \n",
            "TCP\t  21        18        3        \n",
            "INET\t  22        19        3        \n",
            "FRAG\t  0         0         0        \n",
            "\n"
          ]
        }
      ]
    },
    {
      "cell_type": "code",
      "source": [
        "#!/bin/bash\n",
        "# This script displays all UDP sockets using ss\n",
        "\n",
        "# Displaying all UDP sockets\n",
        "!ss -u -a"
      ],
      "metadata": {
        "colab": {
          "base_uri": "https://localhost:8080/"
        },
        "id": "5atut6tP_MXo",
        "outputId": "8d323447-a81c-4a0b-e25b-4b3e834a85b0"
      },
      "execution_count": 41,
      "outputs": [
        {
          "output_type": "stream",
          "name": "stdout",
          "text": [
            "State  Recv-Q Send-Q Local Address:Port  Peer Address:PortProcess\n",
            "UNCONN 0      0         127.0.0.11:55622      0.0.0.0:*          \n"
          ]
        }
      ]
    },
    {
      "cell_type": "code",
      "source": [
        "!sudo apt-get install ufw"
      ],
      "metadata": {
        "colab": {
          "base_uri": "https://localhost:8080/"
        },
        "id": "erR2G_HQB0jv",
        "outputId": "7652937a-230c-492e-d966-bcce8bf7f149"
      },
      "execution_count": 43,
      "outputs": [
        {
          "output_type": "stream",
          "name": "stdout",
          "text": [
            "Reading package lists... Done\n",
            "Building dependency tree... Done\n",
            "Reading state information... Done\n",
            "The following additional packages will be installed:\n",
            "  iptables libip6tc2 libnetfilter-conntrack3 libnfnetlink0 libnftnl11 netbase\n",
            "Suggested packages:\n",
            "  firewalld nftables rsyslog\n",
            "The following NEW packages will be installed:\n",
            "  iptables libip6tc2 libnetfilter-conntrack3 libnfnetlink0 libnftnl11 netbase\n",
            "  ufw\n",
            "0 upgraded, 7 newly installed, 0 to remove and 19 not upgraded.\n",
            "Need to get 776 kB of archives.\n",
            "After this operation, 4,308 kB of additional disk space will be used.\n",
            "Get:1 http://archive.ubuntu.com/ubuntu jammy/main amd64 netbase all 6.3 [12.9 kB]\n",
            "Get:2 http://archive.ubuntu.com/ubuntu jammy-updates/main amd64 libip6tc2 amd64 1.8.7-1ubuntu5.1 [20.2 kB]\n",
            "Get:3 http://archive.ubuntu.com/ubuntu jammy/main amd64 libnfnetlink0 amd64 1.0.1-3build3 [14.6 kB]\n",
            "Get:4 http://archive.ubuntu.com/ubuntu jammy/main amd64 libnetfilter-conntrack3 amd64 1.0.9-1 [45.3 kB]\n",
            "Get:5 http://archive.ubuntu.com/ubuntu jammy/main amd64 libnftnl11 amd64 1.2.1-1build1 [65.5 kB]\n",
            "Get:6 http://archive.ubuntu.com/ubuntu jammy-updates/main amd64 iptables amd64 1.8.7-1ubuntu5.1 [455 kB]\n",
            "Get:7 http://archive.ubuntu.com/ubuntu jammy-updates/main amd64 ufw all 0.36.1-4ubuntu0.1 [162 kB]\n",
            "Fetched 776 kB in 0s (2,807 kB/s)\n",
            "debconf: unable to initialize frontend: Dialog\n",
            "debconf: (No usable dialog-like program is installed, so the dialog based frontend cannot be used. at /usr/share/perl5/Debconf/FrontEnd/Dialog.pm line 78, <> line 7.)\n",
            "debconf: falling back to frontend: Readline\n",
            "debconf: unable to initialize frontend: Readline\n",
            "debconf: (This frontend requires a controlling tty.)\n",
            "debconf: falling back to frontend: Teletype\n",
            "dpkg-preconfigure: unable to re-open stdin: \n",
            "Selecting previously unselected package netbase.\n",
            "(Reading database ... 120904 files and directories currently installed.)\n",
            "Preparing to unpack .../0-netbase_6.3_all.deb ...\n",
            "Unpacking netbase (6.3) ...\n",
            "Selecting previously unselected package libip6tc2:amd64.\n",
            "Preparing to unpack .../1-libip6tc2_1.8.7-1ubuntu5.1_amd64.deb ...\n",
            "Unpacking libip6tc2:amd64 (1.8.7-1ubuntu5.1) ...\n",
            "Selecting previously unselected package libnfnetlink0:amd64.\n",
            "Preparing to unpack .../2-libnfnetlink0_1.0.1-3build3_amd64.deb ...\n",
            "Unpacking libnfnetlink0:amd64 (1.0.1-3build3) ...\n",
            "Selecting previously unselected package libnetfilter-conntrack3:amd64.\n",
            "Preparing to unpack .../3-libnetfilter-conntrack3_1.0.9-1_amd64.deb ...\n",
            "Unpacking libnetfilter-conntrack3:amd64 (1.0.9-1) ...\n",
            "Selecting previously unselected package libnftnl11:amd64.\n",
            "Preparing to unpack .../4-libnftnl11_1.2.1-1build1_amd64.deb ...\n",
            "Unpacking libnftnl11:amd64 (1.2.1-1build1) ...\n",
            "Selecting previously unselected package iptables.\n",
            "Preparing to unpack .../5-iptables_1.8.7-1ubuntu5.1_amd64.deb ...\n",
            "Unpacking iptables (1.8.7-1ubuntu5.1) ...\n",
            "Selecting previously unselected package ufw.\n",
            "Preparing to unpack .../6-ufw_0.36.1-4ubuntu0.1_all.deb ...\n",
            "Unpacking ufw (0.36.1-4ubuntu0.1) ...\n",
            "Setting up libip6tc2:amd64 (1.8.7-1ubuntu5.1) ...\n",
            "Setting up libnftnl11:amd64 (1.2.1-1build1) ...\n",
            "Setting up libnfnetlink0:amd64 (1.0.1-3build3) ...\n",
            "Setting up netbase (6.3) ...\n",
            "Setting up libnetfilter-conntrack3:amd64 (1.0.9-1) ...\n",
            "Setting up iptables (1.8.7-1ubuntu5.1) ...\n",
            "update-alternatives: using /usr/sbin/iptables-legacy to provide /usr/sbin/iptables (iptables) in auto mode\n",
            "update-alternatives: using /usr/sbin/ip6tables-legacy to provide /usr/sbin/ip6tables (ip6tables) in auto mode\n",
            "update-alternatives: using /usr/sbin/iptables-nft to provide /usr/sbin/iptables (iptables) in auto mode\n",
            "update-alternatives: using /usr/sbin/ip6tables-nft to provide /usr/sbin/ip6tables (ip6tables) in auto mode\n",
            "update-alternatives: using /usr/sbin/arptables-nft to provide /usr/sbin/arptables (arptables) in auto mode\n",
            "update-alternatives: using /usr/sbin/ebtables-nft to provide /usr/sbin/ebtables (ebtables) in auto mode\n",
            "Setting up ufw (0.36.1-4ubuntu0.1) ...\n",
            "debconf: unable to initialize frontend: Dialog\n",
            "debconf: (No usable dialog-like program is installed, so the dialog based frontend cannot be used. at /usr/share/perl5/Debconf/FrontEnd/Dialog.pm line 78.)\n",
            "debconf: falling back to frontend: Readline\n",
            "\n",
            "Creating config file /etc/ufw/before.rules with new version\n",
            "\n",
            "Creating config file /etc/ufw/before6.rules with new version\n",
            "\n",
            "Creating config file /etc/ufw/after.rules with new version\n",
            "\n",
            "Creating config file /etc/ufw/after6.rules with new version\n",
            "Created symlink /etc/systemd/system/multi-user.target.wants/ufw.service → /lib/systemd/system/ufw.service.\n",
            "Processing triggers for libc-bin (2.35-0ubuntu3.1) ...\n",
            "/sbin/ldconfig.real: /usr/local/lib/libtbb.so.12 is not a symbolic link\n",
            "\n",
            "/sbin/ldconfig.real: /usr/local/lib/libtbbbind_2_0.so.3 is not a symbolic link\n",
            "\n",
            "/sbin/ldconfig.real: /usr/local/lib/libtbbmalloc_proxy.so.2 is not a symbolic link\n",
            "\n",
            "/sbin/ldconfig.real: /usr/local/lib/libtbbmalloc.so.2 is not a symbolic link\n",
            "\n",
            "/sbin/ldconfig.real: /usr/local/lib/libtbbbind.so.3 is not a symbolic link\n",
            "\n",
            "/sbin/ldconfig.real: /usr/local/lib/libtbbbind_2_5.so.3 is not a symbolic link\n",
            "\n",
            "Processing triggers for man-db (2.10.2-1) ...\n"
          ]
        }
      ]
    },
    {
      "cell_type": "code",
      "source": [
        "#!/bin/bash\n",
        "# This script enables UFW\n",
        "\n",
        "# Enabling UFW\n",
        "!sudo ufw enable\n"
      ],
      "metadata": {
        "id": "cVLNkeGdCBUS",
        "outputId": "21b80a77-5c7e-494d-8291-232e5a666a84",
        "colab": {
          "base_uri": "https://localhost:8080/"
        }
      },
      "execution_count": 44,
      "outputs": [
        {
          "output_type": "stream",
          "name": "stdout",
          "text": [
            "ERROR: problem running ufw-init\n",
            "iptables-restore v1.8.7 (nf_tables): Could not fetch rule set generation id: Permission denied (you must be root)\n",
            "\n",
            "iptables-restore v1.8.7 (nf_tables): Couldn't load match `conntrack':No such file or directory\n",
            "\n",
            "Error occurred at line: 2\n",
            "Try `iptables-restore -h' or 'iptables-restore --help' for more information.\n",
            "iptables-restore v1.8.7 (nf_tables): Could not fetch rule set generation id: Permission denied (you must be root)\n",
            "\n",
            "iptables-restore v1.8.7 (nf_tables): Could not fetch rule set generation id: Permission denied (you must be root)\n",
            "\n",
            "iptables-restore v1.8.7 (nf_tables): Couldn't load match `conntrack':No such file or directory\n",
            "\n",
            "Error occurred at line: 25\n",
            "Try `iptables-restore -h' or 'iptables-restore --help' for more information.\n",
            "iptables-restore v1.8.7 (nf_tables): unknown option \"--dport\"\n",
            "Error occurred at line: 19\n",
            "Try `iptables-restore -h' or 'iptables-restore --help' for more information.\n",
            "iptables-restore v1.8.7 (nf_tables): Could not fetch rule set generation id: Permission denied (you must be root)\n",
            "\n",
            "iptables-restore v1.8.7 (nf_tables): Couldn't load match `limit':No such file or directory\n",
            "\n",
            "Error occurred at line: 8\n",
            "Try `iptables-restore -h' or 'iptables-restore --help' for more information.\n",
            "iptables-restore v1.8.7 (nf_tables): Could not fetch rule set generation id: Permission denied (you must be root)\n",
            "\n",
            "iptables-restore v1.8.7 (nf_tables): Could not fetch rule set generation id: Permission denied (you must be root)\n",
            "\n",
            "sysctl: setting key \"net.ipv4.conf.all.accept_redirects\", ignoring: Read-only file system\n",
            "sysctl: setting key \"net.ipv4.conf.default.accept_redirects\", ignoring: Read-only file system\n",
            "sysctl: setting key \"net.ipv6.conf.all.accept_redirects\", ignoring: Read-only file system\n",
            "sysctl: setting key \"net.ipv6.conf.default.accept_redirects\", ignoring: Read-only file system\n",
            "sysctl: setting key \"net.ipv4.icmp_echo_ignore_broadcasts\", ignoring: Read-only file system\n",
            "sysctl: setting key \"net.ipv4.icmp_ignore_bogus_error_responses\", ignoring: Read-only file system\n",
            "sysctl: setting key \"net.ipv4.icmp_echo_ignore_all\", ignoring: Read-only file system\n",
            "sysctl: setting key \"net.ipv4.conf.all.log_martians\", ignoring: Read-only file system\n",
            "sysctl: setting key \"net.ipv4.conf.default.log_martians\", ignoring: Read-only file system\n",
            "\n",
            "Problem loading ipv6 (skipping)\n",
            "Problem running '/etc/ufw/before.rules'\n",
            "Problem running '/etc/ufw/after.rules'\n",
            "Problem running '/etc/ufw/user.rules'\n",
            "\n"
          ]
        }
      ]
    }
  ]
}